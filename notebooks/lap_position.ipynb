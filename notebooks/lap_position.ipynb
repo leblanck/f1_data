{
 "cells": [
  {
   "cell_type": "code",
   "execution_count": 7,
   "id": "1d3b1007-32ce-4342-afe6-51a760e29a00",
   "metadata": {},
   "outputs": [],
   "source": [
    "import fastf1 as f1\n",
    "import pandas as pd\n",
    "import matplotlib\n",
    "import matplotlib.pyplot as plt\n",
    "import fastf1.plotting\n",
    "f1.Cache.enable_cache('cache')"
   ]
  },
  {
   "cell_type": "code",
   "execution_count": 9,
   "id": "1f428600-7db3-442a-bbc2-ad7124b4a353",
   "metadata": {},
   "outputs": [],
   "source": [
    "fastf1.plotting.setup_mpl(misc_mpl_mods=False)"
   ]
  },
  {
   "cell_type": "code",
   "execution_count": 11,
   "id": "d4993ee4-8eed-419f-93b4-053e990a8aba",
   "metadata": {},
   "outputs": [
    {
     "name": "stderr",
     "output_type": "stream",
     "text": [
      "core           INFO \tLoading data for Bahrain Grand Prix - Race [v3.3.1]\n",
      "req            INFO \tUsing cached data for session_info\n",
      "req            INFO \tUsing cached data for driver_info\n",
      "logger      WARNING \tFailed to load result data from Ergast!\n",
      "core        WARNING \tNo result data for this session available on Ergast! (This is expected for recent sessions)\n",
      "req            INFO \tUsing cached data for session_status_data\n",
      "req            INFO \tUsing cached data for lap_count\n",
      "req            INFO \tUsing cached data for track_status_data\n",
      "req            INFO \tUsing cached data for _extended_timing_data\n",
      "req            INFO \tUsing cached data for timing_app_data\n",
      "core           INFO \tProcessing timing data...\n",
      "logger      WARNING \tFailed to add first lap time from Ergast!\n",
      "req            INFO \tUsing cached data for race_control_messages\n",
      "core           INFO \tFinished loading data for 20 drivers: ['1', '11', '16', '55', '14', '63', '44', '18', '31', '27', '4', '77', '24', '22', '23', '2', '20', '81', '21', '10']\n"
     ]
    }
   ],
   "source": [
    "session = f1.get_session(2023, 1, 'R')\n",
    "session.load(telemetry=False, weather=False)"
   ]
  },
  {
   "cell_type": "code",
   "execution_count": 15,
   "id": "10fa3dd9-9f30-4f0f-a728-1f0310ea4b13",
   "metadata": {},
   "outputs": [],
   "source": [
    "matplotlib.rcParams['font.family'] = ['Berkeley Mono', 'monospace']"
   ]
  },
  {
   "cell_type": "code",
   "execution_count": 26,
   "id": "608fda75-e9a5-4a89-976f-b46f776a8058",
   "metadata": {},
   "outputs": [
    {
     "data": {
      "image/png": "[encoded data removed]",
      "text/plain": [
       "<Figure size 800x500 with 1 Axes>"
      ]
     },
     "metadata": {},
     "output_type": "display_data"
    }
   ],
   "source": [
    "fig, ax = plt.subplots(figsize=(8.0, 5.0))"
   ]
  },
  {
   "cell_type": "code",
   "execution_count": 31,
   "id": "17909269-0030-47ef-bb7c-373d8cebf41c",
   "metadata": {},
   "outputs": [],
   "source": [
    "for driver in session.drivers:\n",
    "    driver_laps = session.laps.pick_driver(driver)\n",
    "    abb = driver_laps['Driver'].iloc[0]\n",
    "    color = fastf1.plotting.driver_color(abb)\n",
    "    ax.plot(driver_laps['LapNumber'], driver_laps['Position'], label=abb, color=color)"
   ]
  },
  {
   "cell_type": "code",
   "execution_count": 32,
   "id": "4e15a510-d0b9-4302-8acb-4542e13de1dc",
   "metadata": {},
   "outputs": [
    {
     "data": {
      "text/plain": [
       "Text(4.444444444444452, 0.5, 'Position')"
      ]
     },
     "execution_count": 32,
     "metadata": {},
     "output_type": "execute_result"
    }
   ],
   "source": [
    "ax.set_ylim([20.5, 0.5])\n",
    "ax.set_yticks([1, 5, 15, 20])\n",
    "ax.set_xlabel('Lap')\n",
    "ax.set_ylabel('Position')"
   ]
  },
  {
   "cell_type": "code",
   "execution_count": 33,
   "id": "2e928efd-333b-493e-a480-97eb404c1bd3",
   "metadata": {},
   "outputs": [
    {
     "data": {
      "text/plain": [
       "<Figure size 640x480 with 0 Axes>"
      ]
     },
     "metadata": {},
     "output_type": "display_data"
    }
   ],
   "source": [
    "ax.legend(bbox_to_anchor=(1.0, 1.02))\n",
    "plt.tight_layout()\n",
    "plt.show()"
   ]
  },
  {
   "cell_type": "code",
   "execution_count": null,
   "id": "2d03cb98-83ad-43ef-9a7c-e3060061653b",
   "metadata": {},
   "outputs": [],
   "source": []
  },
  {
   "cell_type": "code",
   "execution_count": null,
   "id": "48ac8547-f165-43c6-a7fb-4c228e062097",
   "metadata": {},
   "outputs": [],
   "source": []
  }
 ],
 "metadata": {
  "kernelspec": {
   "display_name": "Python 3 (ipykernel)",
   "language": "python",
   "name": "python3"
  },
  "language_info": {
   "codemirror_mode": {
    "name": "ipython",
    "version": 3
   },
   "file_extension": ".py",
   "mimetype": "text/x-python",
   "name": "python",
   "nbconvert_exporter": "python",
   "pygments_lexer": "ipython3",
   "version": "3.11.3"
  }
 },
 "nbformat": 4,
 "nbformat_minor": 5
}
